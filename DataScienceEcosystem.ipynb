{
 "cells": [
  {
   "cell_type": "markdown",
   "id": "48fbb0f5-96f8-4632-91e8-6b0abbda451c",
   "metadata": {},
   "source": [
    "## Data Science Tools and Ecosystem"
   ]
  },
  {
   "cell_type": "markdown",
   "id": "163a8869-a501-4877-8e36-e03a27e593b5",
   "metadata": {},
   "source": [
    "In this note book data science tools and ecosystem are summarised"
   ]
  },
  {
   "cell_type": "markdown",
   "id": "cbc08ecb-7634-4cf7-89bd-09bb54455d52",
   "metadata": {},
   "source": [
    "## Some of the key take aways from the course\n",
    "- What is data science\n",
    "- Data science tools\n",
    "- Data science languages\n",
    "- Development environments for data science\n"
   ]
  },
  {
   "cell_type": "markdown",
   "id": "94ef63c1-e58e-429f-a585-3a6ded302be8",
   "metadata": {},
   "source": [
    "# Some of the Popular Languages Data Scientists use are\n",
    "1. Python\n",
    "2. R\n",
    "3. Java\n",
    "4. Julia"
   ]
  },
  {
   "cell_type": "markdown",
   "id": "807ea170-ac9d-4d8f-b44b-cd5574c93797",
   "metadata": {},
   "source": [
    "# Some of the commonly used data science libraries are\n",
    "1. Numpy\n",
    "2. Pandas\n",
    "3. Matplotlib\n",
    "4. Scikit-learn"
   ]
  },
  {
   "cell_type": "markdown",
   "id": "28e8fd3c-b15e-4146-ae60-587d0f957803",
   "metadata": {},
   "source": [
    "# Data Science Tools"
   ]
  },
  {
   "cell_type": "markdown",
   "id": "889ab85c-bb01-4279-9b4e-f855ff3bee35",
   "metadata": {},
   "source": [
    "| Tools | Environments|\n",
    "| ----- | ----------- |\n",
    "| R | R Studio |\n",
    "| Python | Jupiter Notebook |"
   ]
  },
  {
   "cell_type": "markdown",
   "id": "aa53486f-94e3-4ec7-afe9-9bfa1d5201ff",
   "metadata": {},
   "source": [
    "### Below are a few arthmetic expressions used in python\n",
    "\n"
   ]
  },
  {
   "cell_type": "code",
   "execution_count": 3,
   "id": "212c7b83-069d-4505-860a-e01b6ea99fe1",
   "metadata": {},
   "outputs": [
    {
     "data": {
      "text/plain": [
       "3"
      ]
     },
     "execution_count": 3,
     "metadata": {},
     "output_type": "execute_result"
    }
   ],
   "source": [
    "1+2"
   ]
  },
  {
   "cell_type": "code",
   "execution_count": 4,
   "id": "f33be71b-d967-4875-ad3d-0103906be565",
   "metadata": {},
   "outputs": [
    {
     "data": {
      "text/plain": [
       "0"
      ]
     },
     "execution_count": 4,
     "metadata": {},
     "output_type": "execute_result"
    }
   ],
   "source": [
    "5-5"
   ]
  },
  {
   "cell_type": "code",
   "execution_count": 5,
   "id": "54727b35-c359-4b4f-9f3c-5a0c277a0516",
   "metadata": {},
   "outputs": [
    {
     "data": {
      "text/plain": [
       "24"
      ]
     },
     "execution_count": 5,
     "metadata": {},
     "output_type": "execute_result"
    }
   ],
   "source": [
    "4*6"
   ]
  },
  {
   "cell_type": "code",
   "execution_count": 6,
   "id": "4896169e-e4d0-4039-b31e-4a151a1ebba6",
   "metadata": {},
   "outputs": [
    {
     "data": {
      "text/plain": [
       "1.4"
      ]
     },
     "execution_count": 6,
     "metadata": {},
     "output_type": "execute_result"
    }
   ],
   "source": [
    "7/5"
   ]
  },
  {
   "cell_type": "markdown",
   "id": "56098bb3-3409-48a0-923d-3782d0e0785a",
   "metadata": {},
   "source": [
    "### Create a code to multiply and add numbers"
   ]
  },
  {
   "cell_type": "markdown",
   "id": "3dde9519-8cae-42c6-9d2a-46ec401b377d",
   "metadata": {},
   "source": [
    "This is a simple arthmetic expression to multiply then add intergers \n"
   ]
  },
  {
   "cell_type": "code",
   "execution_count": 10,
   "id": "53acb615-61ff-4d38-a909-0d732daf6e1d",
   "metadata": {},
   "outputs": [
    {
     "data": {
      "text/plain": [
       "17"
      ]
     },
     "execution_count": 10,
     "metadata": {},
     "output_type": "execute_result"
    }
   ],
   "source": [
    "3*4+5"
   ]
  },
  {
   "cell_type": "markdown",
   "id": "e0bb4ddb-1c15-4301-91fe-628cc6c0d9e0",
   "metadata": {},
   "source": [
    "### Create a code that converts minutes into hours"
   ]
  },
  {
   "cell_type": "markdown",
   "id": "59c9c21d-60c9-45f6-8f59-e82f8009ecd1",
   "metadata": {},
   "source": [
    "This will convert 200 Mintes to hours by dividing by 60"
   ]
  },
  {
   "cell_type": "code",
   "execution_count": 11,
   "id": "69ed045e-d697-4c0e-8273-4eb2f86e6650",
   "metadata": {},
   "outputs": [
    {
     "data": {
      "text/plain": [
       "3.3333333333333335"
      ]
     },
     "execution_count": 11,
     "metadata": {},
     "output_type": "execute_result"
    }
   ],
   "source": [
    "200/60"
   ]
  },
  {
   "cell_type": "markdown",
   "id": "58a720af-d01f-410f-9a61-f57ad3fbe074",
   "metadata": {},
   "source": [
    "## Author\n",
    "### Doreen Nkirote Kaunyangi"
   ]
  },
  {
   "cell_type": "code",
   "execution_count": null,
   "id": "f1c78727-e11b-40f4-8c34-d8d182ac70d4",
   "metadata": {},
   "outputs": [],
   "source": []
  }
 ],
 "metadata": {
  "kernelspec": {
   "display_name": "Python 3 (ipykernel)",
   "language": "python",
   "name": "python3"
  },
  "language_info": {
   "codemirror_mode": {
    "name": "ipython",
    "version": 3
   },
   "file_extension": ".py",
   "mimetype": "text/x-python",
   "name": "python",
   "nbconvert_exporter": "python",
   "pygments_lexer": "ipython3",
   "version": "3.11.7"
  }
 },
 "nbformat": 4,
 "nbformat_minor": 5
}
